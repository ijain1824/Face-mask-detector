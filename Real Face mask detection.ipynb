{
 "cells": [
  {
   "cell_type": "markdown",
   "metadata": {},
   "source": [
    "### Importing Libraries"
   ]
  },
  {
   "cell_type": "code",
   "execution_count": 3,
   "metadata": {},
   "outputs": [],
   "source": [
    "from keras.optimizers import RMSprop\n",
    "from keras.preprocessing.image import ImageDataGenerator\n",
    "import cv2\n",
    "from keras.models import Sequential\n",
    "from keras.layers import Conv2D, Input, ZeroPadding2D, BatchNormalization, Activation, MaxPooling2D, Flatten, Dense,Dropout\n",
    "from keras.models import Model, load_model\n",
    "from keras.callbacks import TensorBoard, ModelCheckpoint\n",
    "from sklearn.model_selection import train_test_split\n",
    "from sklearn.metrics import f1_score\n",
    "from sklearn.utils import shuffle\n",
    "\n",
    "import numpy as np"
   ]
  },
  {
   "cell_type": "markdown",
   "metadata": {},
   "source": [
    "### Neural Network Architechture"
   ]
  },
  {
   "cell_type": "code",
   "execution_count": 4,
   "metadata": {},
   "outputs": [],
   "source": [
    "model= Sequential([\n",
    "    Conv2D(100, (3,3), activation='relu', input_shape=(150, 150, 3)),\n",
    "    MaxPooling2D(2,2),\n",
    "    \n",
    "    Conv2D(100, (3,3), activation='relu'),\n",
    "    MaxPooling2D(2,2),\n",
    "    \n",
    "    Flatten(),\n",
    "    Dropout(0.5),\n",
    "    Dense(50, activation='relu'),\n",
    "    Dense(2, activation='softmax')\n",
    "])\n",
    "model.compile(optimizer='adam', loss='binary_crossentropy', metrics=['acc'])\n",
    "    \n",
    "\n"
   ]
  },
  {
   "cell_type": "markdown",
   "metadata": {},
   "source": [
    "### Image Data Generation and Augmentation"
   ]
  },
  {
   "cell_type": "code",
   "execution_count": 5,
   "metadata": {},
   "outputs": [],
   "source": [
    "import zipfile as zf\n",
    "files = zf.ZipFile(\"train.zip\", 'r')\n",
    "files.extractall('directory')\n",
    "files.close()\n"
   ]
  },
  {
   "cell_type": "code",
   "execution_count": 6,
   "metadata": {},
   "outputs": [],
   "source": [
    "import zipfile as zf\n",
    "files = zf.ZipFile(\"test.zip\", 'r')\n",
    "files.extractall('directory1')\n",
    "files.close()"
   ]
  },
  {
   "cell_type": "code",
   "execution_count": 7,
   "metadata": {},
   "outputs": [
    {
     "name": "stdout",
     "output_type": "stream",
     "text": [
      "Found 1315 images belonging to 2 classes.\n",
      "Found 194 images belonging to 2 classes.\n"
     ]
    }
   ],
   "source": [
    "TRAINING_DIR = \"./directory/train\"\n",
    "train_datagen = ImageDataGenerator(rescale=1.0/255,\n",
    "                                   rotation_range=40,\n",
    "                                   width_shift_range=0.2,\n",
    "                                   height_shift_range=0.2,\n",
    "                                   shear_range=0.2,\n",
    "                                   zoom_range=0.2,\n",
    "                                   horizontal_flip=True,\n",
    "                                   fill_mode='nearest')\n",
    "\n",
    "train_generator = train_datagen.flow_from_directory(TRAINING_DIR, \n",
    "                                                    batch_size=10, \n",
    "                                                    target_size=(150, 150))\n",
    "VALIDATION_DIR = \"./directory1/test\"\n",
    "validation_datagen = ImageDataGenerator(rescale=1.0/255)\n",
    "\n",
    "validation_generator = validation_datagen.flow_from_directory(VALIDATION_DIR, \n",
    "                                                         batch_size=10, \n",
    "                                                         target_size=(150, 150))"
   ]
  },
  {
   "cell_type": "code",
   "execution_count": 8,
   "metadata": {},
   "outputs": [],
   "source": [
    "checkpoint = ModelCheckpoint('model2-{epoch:03d}.model',monitor='val_loss',verbose=0,save_best_only=True,mode='auto')"
   ]
  },
  {
   "cell_type": "markdown",
   "metadata": {},
   "source": [
    "### Training the model"
   ]
  },
  {
   "cell_type": "code",
   "execution_count": 9,
   "metadata": {},
   "outputs": [
    {
     "name": "stderr",
     "output_type": "stream",
     "text": [
      "C:\\Users\\Itisha\\anaconda3\\envs\\tf\\lib\\site-packages\\tensorflow\\python\\keras\\engine\\training.py:1844: UserWarning: `Model.fit_generator` is deprecated and will be removed in a future version. Please use `Model.fit`, which supports generators.\n",
      "  warnings.warn('`Model.fit_generator` is deprecated and '\n"
     ]
    },
    {
     "name": "stdout",
     "output_type": "stream",
     "text": [
      "Epoch 1/10\n",
      "132/132 [==============================] - 114s 795ms/step - loss: 0.7753 - acc: 0.6091 - val_loss: 0.4371 - val_acc: 0.8144\n",
      "INFO:tensorflow:Assets written to: model2-001.model\\assets\n",
      "Epoch 2/10\n",
      "132/132 [==============================] - 94s 709ms/step - loss: 0.4399 - acc: 0.8122 - val_loss: 0.1714 - val_acc: 0.9381\n",
      "INFO:tensorflow:Assets written to: model2-002.model\\assets\n",
      "Epoch 3/10\n",
      "132/132 [==============================] - 104s 789ms/step - loss: 0.2993 - acc: 0.8840 - val_loss: 0.1254 - val_acc: 0.9433\n",
      "INFO:tensorflow:Assets written to: model2-003.model\\assets\n",
      "Epoch 4/10\n",
      "132/132 [==============================] - 97s 734ms/step - loss: 0.2939 - acc: 0.8942 - val_loss: 0.0830 - val_acc: 0.9794\n",
      "INFO:tensorflow:Assets written to: model2-004.model\\assets\n",
      "Epoch 5/10\n",
      "132/132 [==============================] - 91s 689ms/step - loss: 0.2485 - acc: 0.9055 - val_loss: 0.0952 - val_acc: 0.9588\n",
      "Epoch 6/10\n",
      "132/132 [==============================] - 93s 705ms/step - loss: 0.2479 - acc: 0.9163 - val_loss: 0.1146 - val_acc: 0.9588\n",
      "Epoch 7/10\n",
      "132/132 [==============================] - 100s 754ms/step - loss: 0.2247 - acc: 0.9103 - val_loss: 0.0755 - val_acc: 0.9845\n",
      "INFO:tensorflow:Assets written to: model2-007.model\\assets\n",
      "Epoch 8/10\n",
      "132/132 [==============================] - 112s 844ms/step - loss: 0.2292 - acc: 0.9081 - val_loss: 0.0565 - val_acc: 0.9742\n",
      "INFO:tensorflow:Assets written to: model2-008.model\\assets\n",
      "Epoch 9/10\n",
      "132/132 [==============================] - 91s 688ms/step - loss: 0.1781 - acc: 0.9438 - val_loss: 0.1574 - val_acc: 0.9227\n",
      "Epoch 10/10\n",
      "132/132 [==============================] - 91s 686ms/step - loss: 0.1844 - acc: 0.9285 - val_loss: 0.0529 - val_acc: 0.9845\n",
      "INFO:tensorflow:Assets written to: model2-010.model\\assets\n"
     ]
    }
   ],
   "source": [
    "history = model.fit_generator(train_generator,\n",
    "                              epochs=10,\n",
    "                              validation_data=validation_generator,\n",
    "                              callbacks=[checkpoint])"
   ]
  },
  {
   "cell_type": "code",
   "execution_count": 10,
   "metadata": {},
   "outputs": [
    {
     "data": {
      "image/png": "[encoded data removed]",
      "text/plain": [
       "<Figure size 432x288 with 1 Axes>"
      ]
     },
     "metadata": {
      "needs_background": "light"
     },
     "output_type": "display_data"
    }
   ],
   "source": [
    "from matplotlib import pyplot as plt\n",
    "\n",
    "plt.plot(history.history['loss'],'r',label='training loss')\n",
    "plt.plot(history.history['val_loss'],label='validation loss')\n",
    "plt.xlabel('# epochs')\n",
    "plt.ylabel('loss')\n",
    "plt.legend()\n",
    "plt.show()"
   ]
  },
  {
   "cell_type": "code",
   "execution_count": 11,
   "metadata": {},
   "outputs": [],
   "source": [
    "model = load_model('Model.model')\n",
    "detector = cv2.CascadeClassifier(\"C:\\\\Users\\\\Itisha\\\\anaconda3\\\\envs\\\\tf\\\\Lib\\\\site-packages\\\\cv2\\\\data\\haarcascade_frontalface_alt2.xml\")\n",
    "types = { 0 : 'With Mask' , 1 : 'Without Mask'}\n",
    "colours = { 0 : (0,255,0) , 1 : (0,0,255)}\n"
   ]
  },
  {
   "cell_type": "code",
   "execution_count": 12,
   "metadata": {},
   "outputs": [
    {
     "name": "stderr",
     "output_type": "stream",
     "text": [
      "<ipython-input-12-f06da6cb4eaf>:8: DeprecationWarning: elementwise comparison failed; this will raise an error in the future.\n",
      "  if faces != test:\n"
     ]
    }
   ],
   "source": [
    "cam = cv2.VideoCapture(0)\n",
    "test = tuple()\n",
    "while True:\n",
    "    status , img = cam.read()\n",
    "    if status:\n",
    "        img_gray = cv2.cvtColor(img,cv2.COLOR_BGR2GRAY)\n",
    "        faces = detector.detectMultiScale(img_gray)\n",
    "        if faces != test:\n",
    "            for face in faces:\n",
    "                x,y,w,h = face\n",
    "                face_img = img_gray[y:y+w,x:x+w]\n",
    "                face_img = cv2.resize(face_img,(100,100))\n",
    "                face_img = face_img/250\n",
    "                face_img = np.reshape(face_img,(1,100,100,1))\n",
    "                val = np.argmax(model.predict(face_img),axis=1)[0]\n",
    "                cv2.rectangle(img,(x,y),(x+w,y+h),colours[val],3)\n",
    "                cv2.rectangle(img,(x,y-40),(x+200,y),colours[val],-1)\n",
    "                cv2.putText(img,types[val],(x,y-15),cv2.FONT_HERSHEY_SIMPLEX,1,thickness=4,color = (255,255,255))\n",
    "        else:\n",
    "            cv2.putText(img,'Face Not Detected',(100,250),cv2.FONT_HERSHEY_SIMPLEX,1,thickness=4,color = (255,255,255))\n",
    "        cv2.putText(img,'PRESS q TO EXIT',(100,50),cv2.FONT_HERSHEY_SIMPLEX,1,thickness=4,color = (255,255,255))    \n",
    "        cv2.imshow('LIVE_FACE_MASK_DETECTOR',img)\n",
    "        key = cv2.waitKey(1)&0xFF\n",
    "        if key == ord('q'):\n",
    "            break\n",
    "cam.release()\n",
    "cv2.destroyAllWindows()\n"
   ]
  },
  {
   "cell_type": "code",
   "execution_count": null,
   "metadata": {},
   "outputs": [],
   "source": []
  }
 ],
 "metadata": {
  "kernelspec": {
   "display_name": "Python 3",
   "language": "python",
   "name": "python3"
  },
  "language_info": {
   "codemirror_mode": {
    "name": "ipython",
    "version": 3
   },
   "file_extension": ".py",
   "mimetype": "text/x-python",
   "name": "python",
   "nbconvert_exporter": "python",
   "pygments_lexer": "ipython3",
   "version": "3.8.5"
  }
 },
 "nbformat": 4,
 "nbformat_minor": 4
}
